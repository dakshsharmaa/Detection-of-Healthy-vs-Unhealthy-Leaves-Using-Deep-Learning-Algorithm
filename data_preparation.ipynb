{
 "cells": [
  {
   "cell_type": "code",
   "execution_count": 24,
   "metadata": {},
   "outputs": [],
   "source": [
    "from pathlib import Path\n",
    "import shutil\n",
    "from sklearn.model_selection import train_test_split"
   ]
  },
  {
   "cell_type": "code",
   "execution_count": 18,
   "metadata": {},
   "outputs": [],
   "source": [
    "destination_path_healthy = r'D:\\NCI\\sem 2\\ML_2\\dataset\\healthy'\n",
    "destination_path_unhealthy = r'D:\\NCI\\sem 2\\ML_2\\dataset\\unhealthy'\n",
    "raw_data = r'D:\\NCI\\sem 2\\ML_2\\Raw_dataset'\n"
   ]
  },
  {
   "cell_type": "code",
   "execution_count": 23,
   "metadata": {},
   "outputs": [
    {
     "name": "stdout",
     "output_type": "stream",
     "text": [
      "D:\\NCI\\sem 2\\ML_2\\Raw_dataset\\Alstonia Scholaris\\diseased\n",
      "D:\\NCI\\sem 2\\ML_2\\Raw_dataset\\Arjun\\diseased\n",
      "D:\\NCI\\sem 2\\ML_2\\Raw_dataset\\Bael\\diseased\n",
      "D:\\NCI\\sem 2\\ML_2\\Raw_dataset\\Chinar\\diseased\n",
      "D:\\NCI\\sem 2\\ML_2\\Raw_dataset\\Gauva\\diseased\n",
      "D:\\NCI\\sem 2\\ML_2\\Raw_dataset\\Jamun\\diseased\n",
      "D:\\NCI\\sem 2\\ML_2\\Raw_dataset\\Jatropha\\diseased\n",
      "D:\\NCI\\sem 2\\ML_2\\Raw_dataset\\Lemon\\diseased\n",
      "D:\\NCI\\sem 2\\ML_2\\Raw_dataset\\Mango\\diseased\n",
      "D:\\NCI\\sem 2\\ML_2\\Raw_dataset\\Pomegranate\\diseased\n",
      "D:\\NCI\\sem 2\\ML_2\\Raw_dataset\\Pongamia Pinnata\\diseased\n"
     ]
    }
   ],
   "source": [
    "for i in Path(raw_data).iterdir():\n",
    "    for j in i.iterdir():\n",
    "        if j.name.endswith('healthy'):\n",
    "            for k in j.iterdir():\n",
    "                destination_path = Path(destination_path_healthy, k.name)\n",
    "                shutil.copy(k, destination_path)\n",
    "        if j.name.endswith('diseased'):\n",
    "            for k in j.iterdir():\n",
    "                destination_path = Path(destination_path_unhealthy, k.name)\n",
    "                shutil.copy(k, destination_path)\n",
    "            "
   ]
  },
  {
   "cell_type": "code",
   "execution_count": 29,
   "metadata": {},
   "outputs": [],
   "source": [
    "train_healthy_path = Path(r'D:\\NCI\\sem 2\\ML_2\\train_dataset\\healthy')\n",
    "train_unhealthy_path = Path(r'D:\\NCI\\sem 2\\ML_2\\train_dataset\\unhealthy')"
   ]
  },
  {
   "cell_type": "code",
   "execution_count": 32,
   "metadata": {},
   "outputs": [],
   "source": [
    "all_healthy = []\n",
    "all_unhealthy = []\n",
    "for i in train_healthy_path.iterdir():\n",
    "    all_healthy.append(i)\n",
    "for j in train_unhealthy_path.iterdir():\n",
    "    all_unhealthy.append(j)"
   ]
  },
  {
   "cell_type": "code",
   "execution_count": 38,
   "metadata": {},
   "outputs": [],
   "source": [
    "train_healthy = []\n",
    "test_healthy = []\n",
    "train_unhealthy = []\n",
    "test_unhealthy = []"
   ]
  },
  {
   "cell_type": "code",
   "execution_count": 39,
   "metadata": {},
   "outputs": [],
   "source": [
    "train_healthy, test_healthy = train_test_split(all_healthy, test_size =0.2, random_state = 12)\n",
    "train_unhealthy, test_unhealthy = train_test_split(all_unhealthy, test_size =0.2, random_state = 12)"
   ]
  },
  {
   "cell_type": "code",
   "execution_count": 42,
   "metadata": {},
   "outputs": [],
   "source": [
    "for i in train_healthy:\n",
    "    shutil.copy(i, Path(r'D:\\NCI\\sem 2\\ML_2\\final_datasets\\train\\healthy', i.name))\n",
    "    # print(i.name)"
   ]
  },
  {
   "cell_type": "code",
   "execution_count": 43,
   "metadata": {},
   "outputs": [],
   "source": [
    "for i in train_unhealthy:\n",
    "    shutil.copy(i, Path(r'D:\\NCI\\sem 2\\ML_2\\final_datasets\\train\\unhealthy', i.name))"
   ]
  },
  {
   "cell_type": "code",
   "execution_count": 44,
   "metadata": {},
   "outputs": [],
   "source": [
    "for i in test_healthy:\n",
    "    shutil.copy(i, Path(r'D:\\NCI\\sem 2\\ML_2\\final_datasets\\test\\healthy', i.name))"
   ]
  },
  {
   "cell_type": "code",
   "execution_count": 45,
   "metadata": {},
   "outputs": [],
   "source": [
    "for i in test_unhealthy:\n",
    "    shutil.copy(i, Path(r'D:\\NCI\\sem 2\\ML_2\\final_datasets\\test\\unhealthy', i.name))"
   ]
  }
 ],
 "metadata": {
  "kernelspec": {
   "display_name": "ml_2",
   "language": "python",
   "name": "python3"
  },
  "language_info": {
   "codemirror_mode": {
    "name": "ipython",
    "version": 3
   },
   "file_extension": ".py",
   "mimetype": "text/x-python",
   "name": "python",
   "nbconvert_exporter": "python",
   "pygments_lexer": "ipython3",
   "version": "3.9.16"
  },
  "orig_nbformat": 4
 },
 "nbformat": 4,
 "nbformat_minor": 2
}
